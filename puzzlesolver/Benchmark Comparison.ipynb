{
 "cells": [
  {
   "cell_type": "code",
   "execution_count": 2,
   "metadata": {},
   "outputs": [],
   "source": [
    "from puzzlesolver.puzzles import Hanoi\n",
    "from puzzlesolver.solvers import GeneralSolver\n",
    "import time\n",
    "from ctypes import *"
   ]
  },
  {
   "cell_type": "code",
   "execution_count": 3,
   "metadata": {},
   "outputs": [
    {
     "data": {
      "text/plain": [
       "531441"
      ]
     },
     "execution_count": 3,
     "metadata": {},
     "output_type": "execute_result"
    }
   ],
   "source": [
    "puzzle = Hanoi.generateStartPosition(\"3_12\")\n",
    "puzzle.numPositions"
   ]
  },
  {
   "cell_type": "code",
   "execution_count": 5,
   "metadata": {},
   "outputs": [
    {
     "data": {
      "text/plain": [
       "23.72554588317871"
      ]
     },
     "execution_count": 5,
     "metadata": {},
     "output_type": "execute_result"
    }
   ],
   "source": [
    "start = time.time()\n",
    "lib = PyDLL(\"./bin/libsolver.so\")\n",
    "init = lib.init\n",
    "init.restype = c_void_p\n",
    "\n",
    "solve = lib.solve\n",
    "solve.argtypes = [ c_void_p, py_object ]\n",
    "\n",
    "clear = lib.clear\n",
    "clear.argtypes = [ c_void_p ]\n",
    "\n",
    "ptr = init()\n",
    "solve(ptr, puzzle)\n",
    "clear(ptr)\n",
    "\n",
    "time.time() - start"
   ]
  },
  {
   "cell_type": "code",
   "execution_count": 11,
   "metadata": {},
   "outputs": [
    {
     "data": {
      "text/plain": [
       "27.276705741882324"
      ]
     },
     "execution_count": 11,
     "metadata": {},
     "output_type": "execute_result"
    }
   ],
   "source": [
    "start = time.time()\n",
    "solver = GeneralSolver(puzzle)\n",
    "solver.solve(verbose=False)\n",
    "time.time() - start"
   ]
  }
 ],
 "metadata": {
  "kernelspec": {
   "display_name": "Python 3",
   "language": "python",
   "name": "python3"
  },
  "language_info": {
   "codemirror_mode": {
    "name": "ipython",
    "version": 3
   },
   "file_extension": ".py",
   "mimetype": "text/x-python",
   "name": "python",
   "nbconvert_exporter": "python",
   "pygments_lexer": "ipython3",
   "version": "3.6.12"
  }
 },
 "nbformat": 4,
 "nbformat_minor": 4
}
