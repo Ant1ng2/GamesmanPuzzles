{
 "cells": [
  {
   "cell_type": "code",
   "execution_count": 1,
   "metadata": {},
   "outputs": [],
   "source": [
    "from puzzlesolver._puzzlesolverc import Hanoi as Hanoic\n",
    "from puzzlesolver.puzzles.hanoi import Hanoi as Hanoipy\n",
    "\n",
    "from puzzlesolver.solvers import GeneralSolver"
   ]
  },
  {
   "cell_type": "code",
   "execution_count": 2,
   "metadata": {},
   "outputs": [],
   "source": [
    "puzzlec = Hanoic.generateStartPosition(\"3_12\")\n",
    "puzzlepy = Hanoipy.generateStartPosition(\"3_12\")"
   ]
  },
  {
   "cell_type": "code",
   "execution_count": 7,
   "metadata": {},
   "outputs": [
    {
     "name": "stderr",
     "output_type": "stream",
     "text": [
      "  2% (13455 of 531441) |                 | Elapsed Time: 0:00:00 ETA:   0:00:06"
     ]
    },
    {
     "name": "stdout",
     "output_type": "stream",
     "text": [
      "Solving: Tower of Hanoi3_12\n"
     ]
    },
    {
     "name": "stderr",
     "output_type": "stream",
     "text": [
      "100% (531441 of 531441) |################| Elapsed Time: 0:00:03 Time:  0:00:03\n",
      "  2% (13103 of 531441) |                 | Elapsed Time: 0:00:00 ETA:   0:00:07"
     ]
    },
    {
     "name": "stdout",
     "output_type": "stream",
     "text": [
      "Solving: Tower of Hanoi3_12\n"
     ]
    },
    {
     "name": "stderr",
     "output_type": "stream",
     "text": [
      "100% (531441 of 531441) |################| Elapsed Time: 0:00:03 Time:  0:00:03\n",
      "  2% (13455 of 531441) |                 | Elapsed Time: 0:00:00 ETA:   0:00:06"
     ]
    },
    {
     "name": "stdout",
     "output_type": "stream",
     "text": [
      "Solving: Tower of Hanoi3_12\n"
     ]
    },
    {
     "name": "stderr",
     "output_type": "stream",
     "text": [
      "100% (531441 of 531441) |################| Elapsed Time: 0:00:03 Time:  0:00:03\n",
      "  2% (13455 of 531441) |                 | Elapsed Time: 0:00:00 ETA:   0:00:06"
     ]
    },
    {
     "name": "stdout",
     "output_type": "stream",
     "text": [
      "Solving: Tower of Hanoi3_12\n"
     ]
    },
    {
     "name": "stderr",
     "output_type": "stream",
     "text": [
      "100% (531441 of 531441) |################| Elapsed Time: 0:00:03 Time:  0:00:03\n",
      "  2% (13455 of 531441) |                 | Elapsed Time: 0:00:00 ETA:   0:00:07"
     ]
    },
    {
     "name": "stdout",
     "output_type": "stream",
     "text": [
      "Solving: Tower of Hanoi3_12\n"
     ]
    },
    {
     "name": "stderr",
     "output_type": "stream",
     "text": [
      "100% (531441 of 531441) |################| Elapsed Time: 0:00:04 Time:  0:00:04\n",
      "  1% (6728 of 531441) |                  | Elapsed Time: 0:00:00 ETA:   0:00:14"
     ]
    },
    {
     "name": "stdout",
     "output_type": "stream",
     "text": [
      "Solving: Tower of Hanoi3_12\n"
     ]
    },
    {
     "name": "stderr",
     "output_type": "stream",
     "text": [
      "100% (531441 of 531441) |################| Elapsed Time: 0:00:04 Time:  0:00:04\n",
      "  2% (13455 of 531441) |                 | Elapsed Time: 0:00:00 ETA:   0:00:07"
     ]
    },
    {
     "name": "stdout",
     "output_type": "stream",
     "text": [
      "Solving: Tower of Hanoi3_12\n"
     ]
    },
    {
     "name": "stderr",
     "output_type": "stream",
     "text": [
      "100% (531441 of 531441) |################| Elapsed Time: 0:00:03 Time:  0:00:03\n",
      "  2% (13455 of 531441) |                 | Elapsed Time: 0:00:00 ETA:   0:00:07"
     ]
    },
    {
     "name": "stdout",
     "output_type": "stream",
     "text": [
      "Solving: Tower of Hanoi3_12\n"
     ]
    },
    {
     "name": "stderr",
     "output_type": "stream",
     "text": [
      "100% (531441 of 531441) |################| Elapsed Time: 0:00:03 Time:  0:00:03\n"
     ]
    },
    {
     "name": "stdout",
     "output_type": "stream",
     "text": [
      "3.89 s ± 253 ms per loop (mean ± std. dev. of 7 runs, 1 loop each)\n"
     ]
    }
   ],
   "source": [
    "%%timeit\n",
    "GeneralSolver(puzzlec).solve(verbose=True)"
   ]
  },
  {
   "cell_type": "code",
   "execution_count": 5,
   "metadata": {},
   "outputs": [
    {
     "name": "stderr",
     "output_type": "stream",
     "text": [
      "  0% (2069 of 531441) |                  | Elapsed Time: 0:00:00 ETA:   0:00:51"
     ]
    },
    {
     "name": "stdout",
     "output_type": "stream",
     "text": [
      "Solving: Tower of Hanoi3_12\n"
     ]
    },
    {
     "name": "stderr",
     "output_type": "stream",
     "text": [
      "100% (531441 of 531441) |################| Elapsed Time: 0:00:29 Time:  0:00:29\n",
      "  0% (2026 of 531441) |                  | Elapsed Time: 0:00:00 ETA:   0:00:52"
     ]
    },
    {
     "name": "stdout",
     "output_type": "stream",
     "text": [
      "Solving: Tower of Hanoi3_12\n"
     ]
    },
    {
     "name": "stderr",
     "output_type": "stream",
     "text": [
      "100% (531441 of 531441) |################| Elapsed Time: 0:00:30 Time:  0:00:30\n",
      "  0% (1572 of 531441) |                  | Elapsed Time: 0:00:00 ETA:   0:01:07"
     ]
    },
    {
     "name": "stdout",
     "output_type": "stream",
     "text": [
      "Solving: Tower of Hanoi3_12\n"
     ]
    },
    {
     "name": "stderr",
     "output_type": "stream",
     "text": [
      "100% (531441 of 531441) |################| Elapsed Time: 0:00:32 Time:  0:00:32\n",
      "  0% (2312 of 531441) |                  | Elapsed Time: 0:00:00 ETA:   0:00:45"
     ]
    },
    {
     "name": "stdout",
     "output_type": "stream",
     "text": [
      "Solving: Tower of Hanoi3_12\n"
     ]
    },
    {
     "name": "stderr",
     "output_type": "stream",
     "text": [
      "100% (531441 of 531441) |################| Elapsed Time: 0:00:29 Time:  0:00:29\n",
      "  0% (2172 of 531441) |                  | Elapsed Time: 0:00:00 ETA:   0:00:48"
     ]
    },
    {
     "name": "stdout",
     "output_type": "stream",
     "text": [
      "Solving: Tower of Hanoi3_12\n"
     ]
    },
    {
     "name": "stderr",
     "output_type": "stream",
     "text": [
      "100% (531441 of 531441) |################| Elapsed Time: 0:00:30 Time:  0:00:30\n",
      "  0% (2203 of 531441) |                  | Elapsed Time: 0:00:00 ETA:   0:00:48"
     ]
    },
    {
     "name": "stdout",
     "output_type": "stream",
     "text": [
      "Solving: Tower of Hanoi3_12\n"
     ]
    },
    {
     "name": "stderr",
     "output_type": "stream",
     "text": [
      "100% (531441 of 531441) |################| Elapsed Time: 0:00:30 Time:  0:00:30\n",
      "  0% (2118 of 531441) |                  | Elapsed Time: 0:00:00 ETA:   0:00:50"
     ]
    },
    {
     "name": "stdout",
     "output_type": "stream",
     "text": [
      "Solving: Tower of Hanoi3_12\n"
     ]
    },
    {
     "name": "stderr",
     "output_type": "stream",
     "text": [
      "100% (531441 of 531441) |################| Elapsed Time: 0:00:30 Time:  0:00:30\n",
      "  0% (2361 of 531441) |                  | Elapsed Time: 0:00:00 ETA:   0:00:44"
     ]
    },
    {
     "name": "stdout",
     "output_type": "stream",
     "text": [
      "Solving: Tower of Hanoi3_12\n"
     ]
    },
    {
     "name": "stderr",
     "output_type": "stream",
     "text": [
      "100% (531441 of 531441) |################| Elapsed Time: 0:00:30 Time:  0:00:30\n"
     ]
    },
    {
     "name": "stdout",
     "output_type": "stream",
     "text": [
      "30.6 s ± 1.01 s per loop (mean ± std. dev. of 7 runs, 1 loop each)\n"
     ]
    }
   ],
   "source": [
    "%%timeit\n",
    "GeneralSolver(puzzlepy).solve(verbose=True)"
   ]
  },
  {
   "cell_type": "code",
   "execution_count": 6,
   "metadata": {},
   "outputs": [
    {
     "data": {
      "text/plain": [
       "531441"
      ]
     },
     "execution_count": 6,
     "metadata": {},
     "output_type": "execute_result"
    }
   ],
   "source": [
    "puzzlec.numPositions"
   ]
  }
 ],
 "metadata": {
  "kernelspec": {
   "display_name": "Puzzles",
   "language": "python",
   "name": "puzzles"
  },
  "language_info": {
   "codemirror_mode": {
    "name": "ipython",
    "version": 3
   },
   "file_extension": ".py",
   "mimetype": "text/x-python",
   "name": "python",
   "nbconvert_exporter": "python",
   "pygments_lexer": "ipython3",
   "version": "3.6.12"
  }
 },
 "nbformat": 4,
 "nbformat_minor": 4
}
